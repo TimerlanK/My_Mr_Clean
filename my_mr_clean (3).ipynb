{
 "cells": [
  {
   "cell_type": "code",
   "execution_count": null,
   "metadata": {},
   "outputs": [],
   "source": [
    "# Install a pip package in the current Jupyter kernel\n",
    "import sys\n",
    "!{sys.executable} -m pip install requests"
   ]
  },
  {
   "cell_type": "code",
   "execution_count": 240,
   "metadata": {
    "scrolled": true
   },
   "outputs": [
    {
     "name": "stdout",
     "output_type": "stream",
     "text": [
      "Requirement already satisfied: stop-words in /Users/tim/opt/anaconda3/lib/python3.8/site-packages (2018.7.23)\r\n"
     ]
    }
   ],
   "source": [
    "# Install a pip package in the current Jupyter kernel\n",
    "import sys\n",
    "!{sys.executable} -m pip install stop-words"
   ]
  },
  {
   "cell_type": "code",
   "execution_count": 16,
   "metadata": {},
   "outputs": [],
   "source": [
    "import requests\n",
    "import json\n",
    "import re\n",
    "import string\n",
    "import collections\n",
    "import matplotlib.pyplot as plt"
   ]
  },
  {
   "cell_type": "code",
   "execution_count": 17,
   "metadata": {},
   "outputs": [],
   "source": [
    "def get_content(subject):\n",
    "    S = requests.Session()\n",
    "    URL = \"https://en.wikipedia.org/w/api.php\"\n",
    "    PARAMS = {\n",
    "        \"action\": \"query\",\n",
    "        \"prop\": \"revisions\",\n",
    "        \"titles\": subject,\n",
    "        \"rvprop\": \"content\",\n",
    "         \"rvslots\": \"main\",\n",
    "        \"rvsection\": 0,\n",
    "        \"formatversion\": \"2\",\n",
    "        \"format\": \"json\"\n",
    "    }\n",
    "\n",
    "    R = S.get(url=URL, params=PARAMS)\n",
    "#     print(type(DATA))\n",
    "#     print(type(R))\n",
    "    DATA = R.json()\n",
    "#     print(DATA)\n",
    "    return DATA"
   ]
  },
  {
   "cell_type": "code",
   "execution_count": 18,
   "metadata": {},
   "outputs": [],
   "source": [
    "DATA = get_content(\"Ozone_layer\")"
   ]
  },
  {
   "cell_type": "code",
   "execution_count": 19,
   "metadata": {},
   "outputs": [],
   "source": [
    "def merge_content(DATA):\n",
    "    #GETTING THE NEEDED CONTENT FROM DICTIONARY\n",
    "    query = DATA['query']\n",
    "    pages = query['pages']\n",
    "    pages = pages[0]\n",
    "    title = pages['title']\n",
    "    revisions = pages['revisions']\n",
    "    revisions = revisions[0]\n",
    "    slots = revisions['slots']\n",
    "    main = slots['main']\n",
    "    content = main['content']\n",
    "    \n",
    "    content_list = content.splitlines()\n",
    "    content_list = content_list[4:12:2]\n",
    "    #INDEXES WERE FOUND BY ENUMERATE\n",
    "#     print(len(content_list))\n",
    "#     content_list_enum = list(enumerate(content_list))\n",
    "#     for line in content_list_enum:\n",
    "#         print(line)\n",
    "\n",
    "    #JOIN THE LIST\n",
    "    separator = ','\n",
    "    DATA_string = separator.join(content_list)\n",
    "    \n",
    "    #CLEAN the <ref>\n",
    "    DATA_string = DATA_string.lower()\n",
    "    DATA_string = re.sub('<[^>]+>', '', DATA_string)\n",
    "    DATA_string = re.sub('{{cite[^}}]+}}', '', DATA_string)\n",
    "    DATA_string = re.sub('\\[http[^\\]]+]', '', DATA_string)\n",
    "    DATA_string = re.sub('\\[\\[|\\]\\]', '', DATA_string)\n",
    "    DATA_string = re.sub('\\'\\'\\'', '', DATA_string)\n",
    "    DATA_string = re.sub('\\|', ' ', DATA_string)\n",
    "    DATA_string = re.sub('&nbsp;', ' ', DATA_string)\n",
    "    DATA_string = re.sub('–', ' ', DATA_string)\n",
    "    DATA_string = re.sub('\\{\\{', '', DATA_string)\n",
    "    DATA_string = re.sub('\\}\\}', '', DATA_string)\n",
    "    \n",
    "    print(DATA_string)\n",
    "#     print(type(DATA_string))\n",
    "    return DATA_string"
   ]
  },
  {
   "cell_type": "code",
   "execution_count": 20,
   "metadata": {
    "scrolled": true
   },
   "outputs": [
    {
     "name": "stdout",
     "output_type": "stream",
     "text": [
      "the ozone layer or ozone shield is a region of earth's stratosphere that absorbs most of the sun's ultraviolet  radiation. it contains a high concentration of ozone (o3) in relation to other parts of the atmosphere, although still small in relation to other gases in the stratosphere. the ozone layer contains less than 10 parts per million of ozone, while the average ozone concentration in earth's atmosphere as a whole is about 0.3 parts per million. the ozone layer is mainly found in the lower portion of the stratosphere, from approximately convert 15 to 35 km sp=us above earth, although its thickness varies seasonally and geographically.,the ozone layer was discovered in 1913 by the french physicists charles fabry and henri buisson. measurements of the sun showed that the radiation sent out from its surface and reaching the ground on earth is usually consistent with the spectrum of a black body with a temperature in the range of 5,500 6,000 k (5,227 to 5,727 °c), except that there was no radiation below a wavelength of about 310 nm at the ultraviolet end of the spectrum. it was deduced that the missing radiation was being absorbed by something in the atmosphere. eventually the spectrum of the missing radiation was matched to only one known chemical, ozone. its properties were explored in detail by the british meteorologist g. m. b. dobson, who developed a simple spectrophotometry spectrophotometer (the dobson spectrometer dobsonmeter) that could be used to measure stratospheric ozone from the ground. between 1928 and 1958, dobson established a worldwide network of ozone monitoring stations, which continue to operate to this day. the \"dobson unit\", a convenient measure of the area density amount of ozone overhead, is named in his honor.,the ozone layer absorbs 97 to 99 percent of the sun's medium-frequency ultraviolet light (from about 200 nanometer nm to 315 nm wavelength), which otherwise would potentially damage exposed life forms near the surface.,in 1976, atmospheric research revealed that the ozone layer was being depleted by chemicals released by industry, mainly chlorofluorocarbons (cfcs). concerns that increased uv radiation due to ozone depletion threatened life on earth, including increased skin cancer in humans and other ecological problems,an interview with lee thomas, epa's 6th administrator. ,  (see p13). april 19, 2012. led to bans on the chemicals, and the latest evidence is that ozone depletion has slowed or stopped. the united nations general assembly has designated september 16 as the international day for the preservation of the ozone layer.\n"
     ]
    }
   ],
   "source": [
    "DATA = merge_content(DATA)\n"
   ]
  },
  {
   "cell_type": "code",
   "execution_count": 305,
   "metadata": {},
   "outputs": [],
   "source": [
    "# Anuar's Method\n",
    "# def tokenize(content):\n",
    "#     splitter = [\" \", \"\\n\", \".\", \"'\", \"(\", \")\"]\n",
    "#     result_list = []\n",
    "#     current_word = \"\"\n",
    "#     for x in content:\n",
    "#         if x in splitter:\n",
    "#             if current_word != \"\" and current_word != \"s\":\n",
    "#                 result_list.append(current_word)\n",
    "#             current_word = \"\"\n",
    "#         else:\n",
    "#             current_word += x\n",
    "    \n",
    "#     return result_list"
   ]
  },
  {
   "cell_type": "code",
   "execution_count": 306,
   "metadata": {},
   "outputs": [],
   "source": [
    "def tokenize(content):\n",
    "    for line in content.splitlines():\n",
    "        line = line.translate(line.maketrans('', '',string.punctuation))\n",
    "        words = line.split()\n",
    "        print (words)\n",
    "        return words\n",
    "        \n",
    "        "
   ]
  },
  {
   "cell_type": "code",
   "execution_count": 307,
   "metadata": {
    "scrolled": true
   },
   "outputs": [
    {
     "name": "stdout",
     "output_type": "stream",
     "text": [
      "['the', 'ozone', 'layer', 'or', 'ozone', 'shield', 'is', 'a', 'region', 'of', 'earths', 'stratosphere', 'that', 'absorbs', 'most', 'of', 'the', 'suns', 'ultraviolet', 'radiation', 'it', 'contains', 'a', 'high', 'concentration', 'of', 'ozone', 'o3', 'in', 'relation', 'to', 'other', 'parts', 'of', 'the', 'atmosphere', 'although', 'still', 'small', 'in', 'relation', 'to', 'other', 'gases', 'in', 'the', 'stratosphere', 'the', 'ozone', 'layer', 'contains', 'less', 'than', '10', 'parts', 'per', 'million', 'of', 'ozone', 'while', 'the', 'average', 'ozone', 'concentration', 'in', 'earths', 'atmosphere', 'as', 'a', 'whole', 'is', 'about', '03', 'parts', 'per', 'million', 'the', 'ozone', 'layer', 'is', 'mainly', 'found', 'in', 'the', 'lower', 'portion', 'of', 'the', 'stratosphere', 'from', 'approximately', 'convert', '15', 'to', '35', 'km', 'spus', 'above', 'earth', 'although', 'its', 'thickness', 'varies', 'seasonally', 'and', 'geographicallythe', 'ozone', 'layer', 'was', 'discovered', 'in', '1913', 'by', 'the', 'french', 'physicists', 'charles', 'fabry', 'and', 'henri', 'buisson', 'measurements', 'of', 'the', 'sun', 'showed', 'that', 'the', 'radiation', 'sent', 'out', 'from', 'its', 'surface', 'and', 'reaching', 'the', 'ground', 'on', 'earth', 'is', 'usually', 'consistent', 'with', 'the', 'spectrum', 'of', 'a', 'black', 'body', 'with', 'a', 'temperature', 'in', 'the', 'range', 'of', '5500', '6000', 'k', '5227', 'to', '5727', '°c', 'except', 'that', 'there', 'was', 'no', 'radiation', 'below', 'a', 'wavelength', 'of', 'about', '310', 'nm', 'at', 'the', 'ultraviolet', 'end', 'of', 'the', 'spectrum', 'it', 'was', 'deduced', 'that', 'the', 'missing', 'radiation', 'was', 'being', 'absorbed', 'by', 'something', 'in', 'the', 'atmosphere', 'eventually', 'the', 'spectrum', 'of', 'the', 'missing', 'radiation', 'was', 'matched', 'to', 'only', 'one', 'known', 'chemical', 'ozone', 'its', 'properties', 'were', 'explored', 'in', 'detail', 'by', 'the', 'british', 'meteorologist', 'g', 'm', 'b', 'dobson', 'who', 'developed', 'a', 'simple', 'spectrophotometry', 'spectrophotometer', 'the', 'dobson', 'spectrometer', 'dobsonmeter', 'that', 'could', 'be', 'used', 'to', 'measure', 'stratospheric', 'ozone', 'from', 'the', 'ground', 'between', '1928', 'and', '1958', 'dobson', 'established', 'a', 'worldwide', 'network', 'of', 'ozone', 'monitoring', 'stations', 'which', 'continue', 'to', 'operate', 'to', 'this', 'day', 'the', 'dobson', 'unit', 'a', 'convenient', 'measure', 'of', 'the', 'area', 'density', 'amount', 'of', 'ozone', 'overhead', 'is', 'named', 'in', 'his', 'honorthe', 'ozone', 'layer', 'absorbs', '97', 'to', '99', 'percent', 'of', 'the', 'suns', 'mediumfrequency', 'ultraviolet', 'light', 'from', 'about', '200', 'nanometer', 'nm', 'to', '315', 'nm', 'wavelength', 'which', 'otherwise', 'would', 'potentially', 'damage', 'exposed', 'life', 'forms', 'near', 'the', 'surfacein', '1976', 'atmospheric', 'research', 'revealed', 'that', 'the', 'ozone', 'layer', 'was', 'being', 'depleted', 'by', 'chemicals', 'released', 'by', 'industry', 'mainly', 'chlorofluorocarbons', 'cfcs', 'concerns', 'that', 'increased', 'uv', 'radiation', 'due', 'to', 'ozone', 'depletion', 'threatened', 'life', 'on', 'earth', 'including', 'increased', 'skin', 'cancer', 'in', 'humans', 'and', 'other', 'ecological', 'problemsan', 'interview', 'with', 'lee', 'thomas', 'epas', '6th', 'administrator', 'see', 'p13', 'april', '19', '2012', 'led', 'to', 'bans', 'on', 'the', 'chemicals', 'and', 'the', 'latest', 'evidence', 'is', 'that', 'ozone', 'depletion', 'has', 'slowed', 'or', 'stopped', 'the', 'united', 'nations', 'general', 'assembly', 'has', 'designated', 'september', '16', 'as', 'the', 'international', 'day', 'for', 'the', 'preservation', 'of', 'the', 'ozone', 'layer']\n"
     ]
    }
   ],
   "source": [
    "collection = tokenize(DATA)"
   ]
  },
  {
   "cell_type": "code",
   "execution_count": 308,
   "metadata": {},
   "outputs": [],
   "source": [
    "def lower_collection(collection):\n",
    "    collection = [word.replace(word, word.lower()) for word in collection]\n",
    "    print(collection)\n",
    "    return collection"
   ]
  },
  {
   "cell_type": "code",
   "execution_count": 309,
   "metadata": {
    "scrolled": true
   },
   "outputs": [
    {
     "name": "stdout",
     "output_type": "stream",
     "text": [
      "['the', 'ozone', 'layer', 'or', 'ozone', 'shield', 'is', 'a', 'region', 'of', 'earths', 'stratosphere', 'that', 'absorbs', 'most', 'of', 'the', 'suns', 'ultraviolet', 'radiation', 'it', 'contains', 'a', 'high', 'concentration', 'of', 'ozone', 'o3', 'in', 'relation', 'to', 'other', 'parts', 'of', 'the', 'atmosphere', 'although', 'still', 'small', 'in', 'relation', 'to', 'other', 'gases', 'in', 'the', 'stratosphere', 'the', 'ozone', 'layer', 'contains', 'less', 'than', '10', 'parts', 'per', 'million', 'of', 'ozone', 'while', 'the', 'average', 'ozone', 'concentration', 'in', 'earths', 'atmosphere', 'as', 'a', 'whole', 'is', 'about', '03', 'parts', 'per', 'million', 'the', 'ozone', 'layer', 'is', 'mainly', 'found', 'in', 'the', 'lower', 'portion', 'of', 'the', 'stratosphere', 'from', 'approximately', 'convert', '15', 'to', '35', 'km', 'spus', 'above', 'earth', 'although', 'its', 'thickness', 'varies', 'seasonally', 'and', 'geographicallythe', 'ozone', 'layer', 'was', 'discovered', 'in', '1913', 'by', 'the', 'french', 'physicists', 'charles', 'fabry', 'and', 'henri', 'buisson', 'measurements', 'of', 'the', 'sun', 'showed', 'that', 'the', 'radiation', 'sent', 'out', 'from', 'its', 'surface', 'and', 'reaching', 'the', 'ground', 'on', 'earth', 'is', 'usually', 'consistent', 'with', 'the', 'spectrum', 'of', 'a', 'black', 'body', 'with', 'a', 'temperature', 'in', 'the', 'range', 'of', '5500', '6000', 'k', '5227', 'to', '5727', '°c', 'except', 'that', 'there', 'was', 'no', 'radiation', 'below', 'a', 'wavelength', 'of', 'about', '310', 'nm', 'at', 'the', 'ultraviolet', 'end', 'of', 'the', 'spectrum', 'it', 'was', 'deduced', 'that', 'the', 'missing', 'radiation', 'was', 'being', 'absorbed', 'by', 'something', 'in', 'the', 'atmosphere', 'eventually', 'the', 'spectrum', 'of', 'the', 'missing', 'radiation', 'was', 'matched', 'to', 'only', 'one', 'known', 'chemical', 'ozone', 'its', 'properties', 'were', 'explored', 'in', 'detail', 'by', 'the', 'british', 'meteorologist', 'g', 'm', 'b', 'dobson', 'who', 'developed', 'a', 'simple', 'spectrophotometry', 'spectrophotometer', 'the', 'dobson', 'spectrometer', 'dobsonmeter', 'that', 'could', 'be', 'used', 'to', 'measure', 'stratospheric', 'ozone', 'from', 'the', 'ground', 'between', '1928', 'and', '1958', 'dobson', 'established', 'a', 'worldwide', 'network', 'of', 'ozone', 'monitoring', 'stations', 'which', 'continue', 'to', 'operate', 'to', 'this', 'day', 'the', 'dobson', 'unit', 'a', 'convenient', 'measure', 'of', 'the', 'area', 'density', 'amount', 'of', 'ozone', 'overhead', 'is', 'named', 'in', 'his', 'honorthe', 'ozone', 'layer', 'absorbs', '97', 'to', '99', 'percent', 'of', 'the', 'suns', 'mediumfrequency', 'ultraviolet', 'light', 'from', 'about', '200', 'nanometer', 'nm', 'to', '315', 'nm', 'wavelength', 'which', 'otherwise', 'would', 'potentially', 'damage', 'exposed', 'life', 'forms', 'near', 'the', 'surfacein', '1976', 'atmospheric', 'research', 'revealed', 'that', 'the', 'ozone', 'layer', 'was', 'being', 'depleted', 'by', 'chemicals', 'released', 'by', 'industry', 'mainly', 'chlorofluorocarbons', 'cfcs', 'concerns', 'that', 'increased', 'uv', 'radiation', 'due', 'to', 'ozone', 'depletion', 'threatened', 'life', 'on', 'earth', 'including', 'increased', 'skin', 'cancer', 'in', 'humans', 'and', 'other', 'ecological', 'problemsan', 'interview', 'with', 'lee', 'thomas', 'epas', '6th', 'administrator', 'see', 'p13', 'april', '19', '2012', 'led', 'to', 'bans', 'on', 'the', 'chemicals', 'and', 'the', 'latest', 'evidence', 'is', 'that', 'ozone', 'depletion', 'has', 'slowed', 'or', 'stopped', 'the', 'united', 'nations', 'general', 'assembly', 'has', 'designated', 'september', '16', 'as', 'the', 'international', 'day', 'for', 'the', 'preservation', 'of', 'the', 'ozone', 'layer']\n"
     ]
    }
   ],
   "source": [
    "collection = lower_collection(collection)"
   ]
  },
  {
   "cell_type": "code",
   "execution_count": 310,
   "metadata": {},
   "outputs": [],
   "source": [
    "def remove_stop_words(word_list):\n",
    "    from stop_words import get_stop_words\n",
    "    stop_words = get_stop_words('en')\n",
    "#     print(stop_words)\n",
    "\n",
    "    new_word_list = [word for word in word_list if word not in stop_words]\n",
    "#     print(new_word_list)\n",
    "    return new_word_list\n",
    "            "
   ]
  },
  {
   "cell_type": "code",
   "execution_count": 312,
   "metadata": {},
   "outputs": [
    {
     "name": "stdout",
     "output_type": "stream",
     "text": [
      "['ozone', 'layer', 'ozone', 'shield', 'region', 'earths', 'stratosphere', 'absorbs', 'suns', 'ultraviolet', 'radiation', 'contains', 'high', 'concentration', 'ozone', 'o3', 'relation', 'parts', 'atmosphere', 'although', 'still', 'small', 'relation', 'gases', 'stratosphere', 'ozone', 'layer', 'contains', 'less', '10', 'parts', 'per', 'million', 'ozone', 'average', 'ozone', 'concentration', 'earths', 'atmosphere', 'whole', '03', 'parts', 'per', 'million', 'ozone', 'layer', 'mainly', 'found', 'lower', 'portion', 'stratosphere', 'approximately', 'convert', '15', '35', 'km', 'spus', 'earth', 'although', 'thickness', 'varies', 'seasonally', 'geographicallythe', 'ozone', 'layer', 'discovered', '1913', 'french', 'physicists', 'charles', 'fabry', 'henri', 'buisson', 'measurements', 'sun', 'showed', 'radiation', 'sent', 'surface', 'reaching', 'ground', 'earth', 'usually', 'consistent', 'spectrum', 'black', 'body', 'temperature', 'range', '5500', '6000', 'k', '5227', '5727', '°c', 'except', 'radiation', 'wavelength', '310', 'nm', 'ultraviolet', 'end', 'spectrum', 'deduced', 'missing', 'radiation', 'absorbed', 'something', 'atmosphere', 'eventually', 'spectrum', 'missing', 'radiation', 'matched', 'one', 'known', 'chemical', 'ozone', 'properties', 'explored', 'detail', 'british', 'meteorologist', 'g', 'm', 'b', 'dobson', 'developed', 'simple', 'spectrophotometry', 'spectrophotometer', 'dobson', 'spectrometer', 'dobsonmeter', 'used', 'measure', 'stratospheric', 'ozone', 'ground', '1928', '1958', 'dobson', 'established', 'worldwide', 'network', 'ozone', 'monitoring', 'stations', 'continue', 'operate', 'day', 'dobson', 'unit', 'convenient', 'measure', 'area', 'density', 'amount', 'ozone', 'overhead', 'named', 'honorthe', 'ozone', 'layer', 'absorbs', '97', '99', 'percent', 'suns', 'mediumfrequency', 'ultraviolet', 'light', '200', 'nanometer', 'nm', '315', 'nm', 'wavelength', 'otherwise', 'potentially', 'damage', 'exposed', 'life', 'forms', 'near', 'surfacein', '1976', 'atmospheric', 'research', 'revealed', 'ozone', 'layer', 'depleted', 'chemicals', 'released', 'industry', 'mainly', 'chlorofluorocarbons', 'cfcs', 'concerns', 'increased', 'uv', 'radiation', 'due', 'ozone', 'depletion', 'threatened', 'life', 'earth', 'including', 'increased', 'skin', 'cancer', 'humans', 'ecological', 'problemsan', 'interview', 'lee', 'thomas', 'epas', '6th', 'administrator', 'see', 'p13', 'april', '19', '2012', 'led', 'bans', 'chemicals', 'latest', 'evidence', 'ozone', 'depletion', 'slowed', 'stopped', 'united', 'nations', 'general', 'assembly', 'designated', 'september', '16', 'international', 'day', 'preservation', 'ozone', 'layer']\n"
     ]
    }
   ],
   "source": [
    "collection = remove_stop_words(collection)"
   ]
  },
  {
   "cell_type": "code",
   "execution_count": 313,
   "metadata": {},
   "outputs": [],
   "source": [
    "def count_frequency(collection):\n",
    "    freq_table = {}\n",
    "    for word in collection:\n",
    "        freq_table[word] = freq_table.get(word,0) + 1\n",
    "    return freq_table"
   ]
  },
  {
   "cell_type": "code",
   "execution_count": 314,
   "metadata": {},
   "outputs": [],
   "source": [
    "frequencies = count_frequency(collection)"
   ]
  },
  {
   "cell_type": "code",
   "execution_count": 315,
   "metadata": {},
   "outputs": [],
   "source": [
    "def print_most_frequent(frequencies, n):\n",
    "    word_counter = collections.Counter(frequencies)\n",
    "    for word,count in word_counter.most_common(n):\n",
    "        print(word,':',count)"
   ]
  },
  {
   "cell_type": "code",
   "execution_count": 316,
   "metadata": {
    "scrolled": true
   },
   "outputs": [
    {
     "name": "stdout",
     "output_type": "stream",
     "text": [
      "ozone : 17\n",
      "layer : 7\n",
      "radiation : 6\n",
      "dobson : 4\n",
      "stratosphere : 3\n",
      "ultraviolet : 3\n",
      "parts : 3\n",
      "atmosphere : 3\n",
      "earth : 3\n",
      "spectrum : 3\n",
      "nm : 3\n",
      "earths : 2\n",
      "absorbs : 2\n",
      "suns : 2\n",
      "contains : 2\n",
      "concentration : 2\n",
      "relation : 2\n",
      "although : 2\n",
      "per : 2\n",
      "million : 2\n"
     ]
    }
   ],
   "source": [
    "print_most_frequent(frequencies,20)"
   ]
  },
  {
   "cell_type": "code",
   "execution_count": 317,
   "metadata": {},
   "outputs": [],
   "source": [
    "def visualize(frequencies,n):\n",
    "    freq_list = collections.Counter(frequencies)\n",
    "    top_list = freq_list.most_common(n)\n",
    "    top_dict = dict(top_list)\n",
    "    keys = list(top_dict.keys())\n",
    "    values = list(top_dict.values())\n",
    "    keys.reverse()\n",
    "    values.reverse()\n",
    "    \n",
    "    plt.barh(keys,values)\n",
    "    plt.title(\"Most Common Tokens in the Ozone layer article\")\n",
    "    plt.show"
   ]
  },
  {
   "cell_type": "code",
   "execution_count": 318,
   "metadata": {},
   "outputs": [
    {
     "data": {
      "image/png": "[encoded data removed]",
      "text/plain": [
       "<Figure size 432x288 with 1 Axes>"
      ]
     },
     "metadata": {
      "needs_background": "light"
     },
     "output_type": "display_data"
    }
   ],
   "source": [
    "visualize(frequencies,20)"
   ]
  }
 ],
 "metadata": {
  "kernelspec": {
   "display_name": "Python 3",
   "language": "python",
   "name": "python3"
  },
  "language_info": {
   "codemirror_mode": {
    "name": "ipython",
    "version": 3
   },
   "file_extension": ".py",
   "mimetype": "text/x-python",
   "name": "python",
   "nbconvert_exporter": "python",
   "pygments_lexer": "ipython3",
   "version": "3.8.3"
  }
 },
 "nbformat": 4,
 "nbformat_minor": 4
}
